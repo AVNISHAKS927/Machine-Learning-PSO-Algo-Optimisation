{
 "cells": [
  {
   "cell_type": "code",
   "execution_count": 83,
   "metadata": {},
   "outputs": [],
   "source": [
    "import pandas as pd"
   ]
  },
  {
   "cell_type": "code",
   "execution_count": 84,
   "metadata": {},
   "outputs": [],
   "source": [
    "import numpy as np"
   ]
  },
  {
   "cell_type": "code",
   "execution_count": 85,
   "metadata": {},
   "outputs": [],
   "source": [
    "import matplotlib.pyplot as plt"
   ]
  },
  {
   "cell_type": "code",
   "execution_count": 86,
   "metadata": {},
   "outputs": [],
   "source": [
    "#Function to find the fitness value\n",
    "def fit_fun(val):\n",
    "    f_val=1+2*val-val**2\n",
    "    return f_val"
   ]
  },
  {
   "cell_type": "code",
   "execution_count": 87,
   "metadata": {},
   "outputs": [],
   "source": [
    "#Random No use for the updating velocity of particle\n",
    "p1=[]\n",
    "v1=[]\n",
    "p1.append(np.random.randint(1,15,10))\n",
    "v1.append(np.random.randint(1,15,10))"
   ]
  },
  {
   "cell_type": "code",
   "execution_count": 88,
   "metadata": {},
   "outputs": [
    {
     "name": "stdout",
     "output_type": "stream",
     "text": [
      "Intial random generated particle poisition P1 =  [array([14,  8,  3, 14,  1,  1, 12, 13,  6,  7])]\n",
      "Intial random generated particle velocity V1 =  [array([10, 11,  8,  4,  9,  7, 11,  7, 13,  7])]\n"
     ]
    }
   ],
   "source": [
    "print(\"Intial random generated particle poisition P1 = \",p1)\n",
    "print(\"Intial random generated particle velocity V1 = \",v1)"
   ]
  },
  {
   "cell_type": "code",
   "execution_count": 89,
   "metadata": {},
   "outputs": [],
   "source": [
    "#Intialisation of Particle and Velocity intially\n",
    "fitness_val=[0]*10\n",
    "current_position=[]\n",
    "current_velocity=[]\n",
    "for i in range(10):\n",
    "    current_position.append(p1[0][i]-10) #here subtract 10 to generate both +ve and -ve value\n",
    "    current_velocity.append(v1[0][i]-10)"
   ]
  },
  {
   "cell_type": "code",
   "execution_count": 90,
   "metadata": {},
   "outputs": [
    {
     "name": "stdout",
     "output_type": "stream",
     "text": [
      "Now value of current position and velocity is calculated such that we get both positive and negative value\n",
      "\n",
      "Current Position of Particle ---  [4, -2, -7, 4, -9, -9, 2, 3, -4, -3]\n",
      "Current Velocity of Particle ----  [0, 1, -2, -6, -1, -3, 1, -3, 3, -3]\n"
     ]
    }
   ],
   "source": [
    "print(\"Now value of current position and velocity is calculated such that we get both positive and negative value\\n\")\n",
    "print(\"Current Position of Particle --- \",current_position)\n",
    "print(\"Current Velocity of Particle ---- \",current_velocity)"
   ]
  },
  {
   "cell_type": "code",
   "execution_count": 91,
   "metadata": {},
   "outputs": [],
   "source": [
    "#Iterate to call the fitness function\n",
    "current_fitness=[]\n",
    "for i in range(10):\n",
    "    fvalue=fit_fun(current_position[i])\n",
    "    current_fitness.append(fvalue)"
   ]
  },
  {
   "cell_type": "code",
   "execution_count": 92,
   "metadata": {},
   "outputs": [
    {
     "name": "stdout",
     "output_type": "stream",
     "text": [
      "The Current Fitness Value is with the defined Function.\n",
      "\n",
      "Current Fitness Value of Particle -- [-7, -7, -62, -7, -98, -98, 1, -2, -23, -14]\n"
     ]
    }
   ],
   "source": [
    "print(\"The Current Fitness Value is with the defined Function.\\n\")\n",
    "print(\"Current Fitness Value of Particle --\",current_fitness)"
   ]
  },
  {
   "cell_type": "code",
   "execution_count": 93,
   "metadata": {},
   "outputs": [],
   "source": [
    "#Local Best Position value of each particle for first iteration is 1st current position\n",
    "local_best_position=[]\n",
    "for i in range(10):\n",
    "    lbp_val=current_position[i];\n",
    "    local_best_position.append(lbp_val);"
   ]
  },
  {
   "cell_type": "code",
   "execution_count": 94,
   "metadata": {},
   "outputs": [
    {
     "name": "stdout",
     "output_type": "stream",
     "text": [
      "Value for Local Best Position of Particle --- [4, -2, -7, 4, -9, -9, 2, 3, -4, -3]\n"
     ]
    }
   ],
   "source": [
    "print(\"Value for Local Best Position of Particle ---\",local_best_position)"
   ]
  },
  {
   "cell_type": "code",
   "execution_count": 95,
   "metadata": {},
   "outputs": [],
   "source": [
    "#Local Best Fitness value of each paticle upto 1st iteration is 1st current fitness\n",
    "local_best_fitness=[]\n",
    "for i in range(10):\n",
    "    lbf_val=current_fitness[i]\n",
    "    local_best_fitness.append(lbf_val)"
   ]
  },
  {
   "cell_type": "code",
   "execution_count": 96,
   "metadata": {},
   "outputs": [
    {
     "name": "stdout",
     "output_type": "stream",
     "text": [
      "Value for Local Best Fitness of Particle--- [-7, -7, -62, -7, -98, -98, 1, -2, -23, -14]\n"
     ]
    }
   ],
   "source": [
    "print(\"Value for Local Best Fitness of Particle---\",local_best_fitness)"
   ]
  },
  {
   "cell_type": "code",
   "execution_count": 97,
   "metadata": {},
   "outputs": [],
   "source": [
    "#Global Best fitness\n",
    "#Finding the GBF value which is max of LBF\n",
    "gbf_val=max(local_best_fitness)\n",
    "gbf_index=local_best_fitness.index(max(local_best_fitness))"
   ]
  },
  {
   "cell_type": "code",
   "execution_count": 98,
   "metadata": {},
   "outputs": [
    {
     "name": "stdout",
     "output_type": "stream",
     "text": [
      "Global Best Fitness and Global best Position Calculated from Local Best Position/Fitness.\n",
      "\n",
      "Global Best Fitness value is ---   1\n",
      "Index value where the Global Best Position found is --  6\n"
     ]
    }
   ],
   "source": [
    "print(\"Global Best Fitness and Global best Position Calculated from Local Best Position/Fitness.\\n\")\n",
    "print(\"Global Best Fitness value is ---  \",gbf_val)\n",
    "print(\"Index value where the Global Best Position found is -- \",gbf_index)"
   ]
  },
  {
   "cell_type": "code",
   "execution_count": 99,
   "metadata": {},
   "outputs": [],
   "source": [
    "#Global Best Position is at same index value in which global best fitness is found in current_position list\n",
    "gbp_val=current_position[gbf_index]"
   ]
  },
  {
   "cell_type": "code",
   "execution_count": 100,
   "metadata": {},
   "outputs": [
    {
     "name": "stdout",
     "output_type": "stream",
     "text": [
      "Global Best position found at index position  6  in GBP list, the value of gbp is---  2\n"
     ]
    }
   ],
   "source": [
    "print(\"Global Best position found at index position \",gbf_index,\" in GBP list, the value of gbp is--- \",gbp_val)"
   ]
  },
  {
   "cell_type": "code",
   "execution_count": 101,
   "metadata": {},
   "outputs": [
    {
     "name": "stdout",
     "output_type": "stream",
     "text": [
      "Now we have some constrain parameter in PSO Algo.\n",
      "\n",
      "The value of intial weight(W)=0.7 , and two accleration coefficient c1=0.2, c2=0.6\n"
     ]
    }
   ],
   "source": [
    "print(\"Now we have some constrain parameter in PSO Algo.\\n\")\n",
    "print(\"The value of intial weight(W)=0.7 , and two accleration coefficient c1=0.2, c2=0.6\")"
   ]
  },
  {
   "cell_type": "code",
   "execution_count": 102,
   "metadata": {},
   "outputs": [],
   "source": [
    "#Some constraint parameter in PSO\n",
    "w=0.7\n",
    "#C1 and C2 are acceleration coeffient\n",
    "c1=0.2\n",
    "c2=0.6"
   ]
  },
  {
   "cell_type": "code",
   "execution_count": 103,
   "metadata": {},
   "outputs": [],
   "source": [
    "arr_velocity=np.array(current_velocity)"
   ]
  },
  {
   "cell_type": "code",
   "execution_count": 104,
   "metadata": {},
   "outputs": [],
   "source": [
    "temp_velocity=arr_velocity\n",
    "#Assignment of the value from arr_velocity to temp_velocity"
   ]
  },
  {
   "cell_type": "code",
   "execution_count": 105,
   "metadata": {},
   "outputs": [],
   "source": [
    "#Converting array to a list\n",
    "temp_velocity=temp_velocity.tolist()"
   ]
  },
  {
   "cell_type": "code",
   "execution_count": 106,
   "metadata": {},
   "outputs": [],
   "source": [
    "green=[]\n",
    "nogreen=[]"
   ]
  },
  {
   "cell_type": "code",
   "execution_count": 107,
   "metadata": {},
   "outputs": [
    {
     "name": "stdout",
     "output_type": "stream",
     "text": [
      "Particle not in Motion Green Light turns off because velocity -ve  0 \n",
      "\n",
      "Particle in Motion Green Light turns on because velocity +ve 1 \n",
      "\n",
      "Particle not in Motion Green Light turns off because velocity -ve  -2 \n",
      "\n",
      "Particle not in Motion Green Light turns off because velocity -ve  -6 \n",
      "\n",
      "Particle not in Motion Green Light turns off because velocity -ve  -1 \n",
      "\n",
      "Particle not in Motion Green Light turns off because velocity -ve  -3 \n",
      "\n",
      "Particle in Motion Green Light turns on because velocity +ve 1 \n",
      "\n",
      "Particle not in Motion Green Light turns off because velocity -ve  -3 \n",
      "\n",
      "Particle in Motion Green Light turns on because velocity +ve 3 \n",
      "\n",
      "Particle not in Motion Green Light turns off because velocity -ve  -3 \n",
      "\n"
     ]
    }
   ],
   "source": [
    "for i in range(10):\n",
    "    if(temp_velocity[i]>0):\n",
    "        green.append(temp_velocity[i]);\n",
    "        print(\"Particle in Motion Green Light turns on because velocity +ve\",temp_velocity[i],\"\\n\")\n",
    "    else:\n",
    "        nogreen.append(temp_velocity[i]);\n",
    "        print(\"Particle not in Motion Green Light turns off because velocity -ve \",temp_velocity[i],\"\\n\")"
   ]
  },
  {
   "cell_type": "code",
   "execution_count": 108,
   "metadata": {},
   "outputs": [
    {
     "name": "stdout",
     "output_type": "stream",
     "text": [
      "Value of green signal for particle based on velocity after first is shown\n",
      "\n",
      "[1, 1, 3]\n",
      "Value of non-green signal for particle based on velocity after first is shown\n",
      "\n",
      "[0, -2, -6, -1, -3, -3, -3]\n"
     ]
    }
   ],
   "source": [
    "print(\"Value of green signal for particle based on velocity after first is shown\\n\")\n",
    "print(green)\n",
    "print(\"Value of non-green signal for particle based on velocity after first is shown\\n\")\n",
    "print(nogreen)"
   ]
  },
  {
   "cell_type": "code",
   "execution_count": 109,
   "metadata": {},
   "outputs": [
    {
     "name": "stdout",
     "output_type": "stream",
     "text": [
      "Enter the no of iteration you want to perform to optimise it.\n",
      "\n"
     ]
    }
   ],
   "source": [
    "print(\"Enter the no of iteration you want to perform to optimise it.\\n\")"
   ]
  },
  {
   "cell_type": "code",
   "execution_count": 110,
   "metadata": {},
   "outputs": [
    {
     "name": "stdout",
     "output_type": "stream",
     "text": [
      "4\n",
      "We are going to perform the no of  4  iteration to optimise it.\n"
     ]
    }
   ],
   "source": [
    "#Velocity updation for iteration 2 and furthur\n",
    "iteration=int(input())\n",
    "print(\"We are going to perform the no of \",iteration,\" iteration to optimise it.\")\n",
    "for j in range(1,iteration):\n",
    "    for i in range(10):\n",
    "        arr_velocity[i]=w*arr_velocity[i]+c1*p1[0][i]*(local_best_position[i]-current_position[i])+c2*v1[0][i]*(gbf_val-current_position[i])\n",
    "        current_position[i]=current_position[i]+arr_velocity[i]\n",
    "        current_fitness[i]=fit_fun(current_position[i])\n",
    "        local_best_fitness[i]=max(current_fitness[i],local_best_fitness[i])\n",
    "    gbf_val=max(local_best_fitness)\n",
    "    gbf_index=local_best_fitness.index(max(local_best_fitness))\n",
    "    gbp_val=current_position[gbf_index]"
   ]
  },
  {
   "cell_type": "code",
   "execution_count": 111,
   "metadata": {},
   "outputs": [],
   "source": [
    "conclusion_velocity=arr_velocity\n",
    "#Assignment of the value from arr_velocity to conclusion_velocity"
   ]
  },
  {
   "cell_type": "code",
   "execution_count": 112,
   "metadata": {},
   "outputs": [],
   "source": [
    "conclusion_velocity=conclusion_velocity.tolist()"
   ]
  },
  {
   "cell_type": "code",
   "execution_count": 113,
   "metadata": {},
   "outputs": [],
   "source": [
    "green_last=[]\n",
    "nongreen_last=[]"
   ]
  },
  {
   "cell_type": "code",
   "execution_count": 114,
   "metadata": {},
   "outputs": [
    {
     "name": "stdout",
     "output_type": "stream",
     "text": [
      "Particle not in Motion Green Light turns off because velocity -ve -888 \n",
      "\n",
      "Particle in Motion Green Light turns on because velocity +ve 830 \n",
      "\n",
      "Particle in Motion Green Light turns on because velocity +ve 473 \n",
      "\n",
      "Particle not in Motion Green Light turns off because velocity -ve -139 \n",
      "\n",
      "Particle in Motion Green Light turns on because velocity +ve 761 \n",
      "\n",
      "Particle in Motion Green Light turns on because velocity +ve 247 \n",
      "\n",
      "Particle not in Motion Green Light turns off because velocity -ve -243 \n",
      "\n",
      "Particle not in Motion Green Light turns off because velocity -ve -257 \n",
      "\n",
      "Particle in Motion Green Light turns on because velocity +ve 2168 \n",
      "\n",
      "Particle in Motion Green Light turns on because velocity +ve 188 \n",
      "\n"
     ]
    }
   ],
   "source": [
    "for i in range(10):\n",
    "    if(conclusion_velocity[i]>0):\n",
    "        green_last.append(conclusion_velocity[i])\n",
    "        print(\"Particle in Motion Green Light turns on because velocity +ve\",conclusion_velocity[i],\"\\n\")\n",
    "    else:\n",
    "        nongreen_last.append(conclusion_velocity[i])\n",
    "        print(\"Particle not in Motion Green Light turns off because velocity -ve\",conclusion_velocity[i],\"\\n\")"
   ]
  },
  {
   "cell_type": "code",
   "execution_count": 115,
   "metadata": {},
   "outputs": [
    {
     "name": "stdout",
     "output_type": "stream",
     "text": [
      "Value of green signal for particle based on velocity after full iteration is shown\n",
      "\n",
      "[830, 473, 761, 247, 2168, 188]\n",
      "Value of non-green signal for particle based on velocity after full iteration is shown\n",
      "\n",
      "[-888, -139, -243, -257]\n"
     ]
    }
   ],
   "source": [
    "print(\"Value of green signal for particle based on velocity after full iteration is shown\\n\")\n",
    "print(green_last)\n",
    "print(\"Value of non-green signal for particle based on velocity after full iteration is shown\\n\")\n",
    "print(nongreen_last)"
   ]
  },
  {
   "cell_type": "code",
   "execution_count": null,
   "metadata": {},
   "outputs": [],
   "source": []
  }
 ],
 "metadata": {
  "kernelspec": {
   "display_name": "Python 3",
   "language": "python",
   "name": "python3"
  },
  "language_info": {
   "codemirror_mode": {
    "name": "ipython",
    "version": 3
   },
   "file_extension": ".py",
   "mimetype": "text/x-python",
   "name": "python",
   "nbconvert_exporter": "python",
   "pygments_lexer": "ipython3",
   "version": "3.6.5"
  }
 },
 "nbformat": 4,
 "nbformat_minor": 2
}
